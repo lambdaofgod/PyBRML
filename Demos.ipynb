{
 "cells": [
  {
   "cell_type": "markdown",
   "id": "60aec48b-45e5-46ea-82de-d83b46e3874e",
   "metadata": {},
   "source": [
    "# Burglar"
   ]
  },
  {
   "cell_type": "code",
   "execution_count": 1,
   "id": "e4e74e9d-93c3-4a9d-b312-aecee9135b0c",
   "metadata": {},
   "outputs": [
    {
     "name": "stdout",
     "output_type": "stream",
     "text": [
      "PotentialClass is imported as module\n",
      "VariableClass is imported as module\n"
     ]
    }
   ],
   "source": [
    "import numpy as np\n",
    "import sys\n",
    "from brml.variable import variable\n",
    "from brml.potential import potential\n",
    "from brml.multpots import multpots\n",
    "from brml.potvariables import potvariables\n",
    "from brml.setpot import setpot\n",
    "from brml.condpot import condpot\n",
    "from brml.dag import dag\n",
    "import networkx as nx\n",
    "\n",
    "%matplotlib inline"
   ]
  },
  {
   "cell_type": "code",
   "execution_count": 11,
   "id": "8a8d10a5-2e7b-4e45-ab34-3667a9aeab29",
   "metadata": {},
   "outputs": [
    {
     "name": "stdout",
     "output_type": "stream",
     "text": [
      "('variables:', array([0., 1., 2., 0., 1., 3., 1.]))\n",
      "('number of variables:', 4)\n",
      "('empty DAG matrix: \\n', array([[0., 0., 0., 0.],\n",
      "       [0., 0., 0., 0.],\n",
      "       [0., 0., 0., 0.],\n",
      "       [0., 0., 0., 0.]]))\n",
      "('DAG adjacency matrix: \\n', array([[0., 0., 1., 0.],\n",
      "       [0., 0., 1., 1.],\n",
      "       [0., 0., 0., 0.],\n",
      "       [0., 0., 0., 0.]]))\n",
      "('current divided newpot.variables=', (array([], dtype=float64), array([], dtype=float64), array([], dtype=float64)))\n",
      "('current divided table: \\n', array([[[0.99000198]],\n",
      "\n",
      "       [[0.00999802]]]))\n",
      "p(burglar|alarm=yes)\n",
      "('conditionedpot.variables:', (array([], dtype=float64), array([], dtype=float64), array([], dtype=float64)))\n",
      "('conditionedpot.table: \\n', array([[[0.99000198]],\n",
      "\n",
      "       [[0.00999802]]]))\n",
      "('current divided newpot.variables=', (array([], dtype=float64), array([], dtype=float64), array([], dtype=float64)))\n",
      "('current divided table: \\n', array([[0.01009899],\n",
      "       [0.98990101]]))\n",
      "p(burglar|alarm=yes, radio=yes):\n",
      "('conditionedpot.variables:', (array([], dtype=float64), array([], dtype=float64), array([], dtype=float64)))\n",
      "('conditionedpot.table: \\n', array([[0.01009899],\n",
      "       [0.98990101]]))\n"
     ]
    }
   ],
   "source": [
    "#!/usr/bin/env python\n",
    "\n",
    "# Python implementation of BRMLtoolbox\n",
    "# Author: Mingjun Zhou\n",
    "# License: GNU License\n",
    "\n",
    "\"\"\"\n",
    "DEMOBURGLAR DEMO: was it the burglar example?\n",
    "\"\"\"\n",
    "\n",
    "\n",
    "\n",
    "burglar, earthquake, alarm, radio = list(range(4))  # Variable order is arbitary\n",
    "yes = 0\n",
    "no = 1\n",
    "\n",
    "variables = [variable(None, None) for i in range(4)]\n",
    "\n",
    "variables[burglar].name = 'burglar'\n",
    "variables[burglar].domain = ['yes', 'no']\n",
    "\n",
    "variables[earthquake].name = 'earthquake'\n",
    "variables[earthquake].domain = ['yes', 'no']\n",
    "\n",
    "variables[alarm].name = 'alarm'\n",
    "variables[alarm].domain = ['yes', 'no']\n",
    "\n",
    "variables[radio].name = 'radio'\n",
    "variables[radio].domain = ['yes', 'no']\n",
    "\n",
    "pot = [potential() for i in range(4)]\n",
    "\n",
    "pot[burglar].variables = np.array([burglar])\n",
    "pot[burglar].card = np.array([2])\n",
    "table = np.zeros(2)\n",
    "table[yes] = 0.01\n",
    "table[no] = 0.99\n",
    "pot[burglar].table = table\n",
    "\n",
    "pot[earthquake].variables = np.array([earthquake])\n",
    "pot[earthquake].card = np.array([2])\n",
    "table = np.zeros(2)\n",
    "table[yes] = 0.000001\n",
    "table[no] = 1 - table[yes]\n",
    "pot[earthquake].table = table\n",
    "\n",
    "pot[alarm].variables = np.array([alarm, burglar, earthquake])\n",
    "pot[alarm].card = np.array([2, 2, 2])\n",
    "table = np.zeros((2, 2, 2))\n",
    "table[yes, yes, yes] = 0.9999\n",
    "table[yes, yes, no] = 0.99\n",
    "table[yes, no, yes] = 0.99\n",
    "table[yes, no, no] = 0.0001\n",
    "table[no][:][:] = 1 - table[yes][:][:]\n",
    "pot[alarm].table = table\n",
    "\n",
    "pot[radio].variables = np.array([radio, earthquake])\n",
    "pot[radio].card = np.array([2, 2])\n",
    "table = np.zeros((2, 2))\n",
    "table[yes, yes] = 1\n",
    "table[no, yes] = 0\n",
    "table[yes, no] = 0\n",
    "table[no, no] = 1\n",
    "pot[radio].table = table\n",
    "\n",
    "#va = potvariables(pot)\n",
    "jointpot = multpots(pot)\n",
    "#print \"jointpot.variables:\", jointpot.variables\n",
    "#print \"jointpot.card:\", jointpot.card\n",
    "#print \"jointpot.table:\", jointpot.table\n",
    "\n",
    "#print jointpot.variables\n",
    "burglar_dag = dag(pot) # Generate the DAG adjacency matrix\n",
    "print(\"DAG adjacency matrix: \\n\", burglar_dag)\n",
    "\n",
    "alarm_evidencedpot = setpot(jointpot, alarm, yes)\n",
    "#FIXME: arbitrary setting\n",
    "#evidencedpot.variables = evidencedpot.variables[1:]\n",
    "#print \"................................................\"\n",
    "#print \"evidencedpot.variables:\", evidencedpot.variables\n",
    "#print \"evidencedpot.table: \\n\", evidencedpot.table\n",
    "\n",
    "#print \"evidencepot.variables:\", evidencedpot.table\n",
    "alarm_conditionedpot = condpot(alarm_evidencedpot, burglar)\n",
    "print(\"p(burglar|alarm=yes)\")\n",
    "print(\"conditionedpot.variables:\", alarm_conditionedpot.variables)\n",
    "print(\"conditionedpot.table: \\n\", alarm_conditionedpot.table)\n",
    "# jointpot = multpots(pot); % joint distribution\n",
    "\n",
    "radio_evidencedpot = setpot(jointpot, [alarm, earthquake], [yes, yes])\n",
    "radio_conditionedpot = condpot(radio_evidencedpot, burglar)\n",
    "print(\"p(burglar|alarm=yes, radio=yes):\")\n",
    "print(\"conditionedpot.variables:\", radio_conditionedpot.variables)\n",
    "print(\"conditionedpot.table: \\n\", radio_conditionedpot.table)\n",
    "#print \"type:\", (conditionedpot.table).dtype"
   ]
  },
  {
   "cell_type": "code",
   "execution_count": 4,
   "id": "0a3defef-03e0-4714-ae42-97ca485e034f",
   "metadata": {},
   "outputs": [],
   "source": [
    "var_names = dict((i, n) for (n, i) in enumerate([\"burglar\", \"earthquake\", \"alarm\", \"radio\"]))\n",
    "\n",
    "val_names = {\"yes\": yes, \"no\": no}\n",
    "\n",
    "conditioning_vals = {\n",
    "    \"alarm\": \"yes\",\n",
    "    #\"radio\": \"yes\"\n",
    "}"
   ]
  },
  {
   "cell_type": "markdown",
   "id": "2e357ada-52f5-44ae-9622-e7570ea70cf5",
   "metadata": {},
   "source": [
    "## TODO\n",
    "\n",
    "Add utils for creating the DAG to simplify the setup cell"
   ]
  },
  {
   "cell_type": "code",
   "execution_count": 6,
   "id": "6330e822-d408-4cda-8e63-79315ce33589",
   "metadata": {},
   "outputs": [],
   "source": [
    "class DAG:\n",
    "    def __init__(self, var_names, pot, val_names={\"yes\": 0, \"no\": 1}):\n",
    "        self.var_names = var_names\n",
    "        self.dag = dag(pot)\n",
    "        self.jointpot = multpots(pot)\n",
    "        self.graph = DAG.make_nx_graph(self.dag, var_names)\n",
    "        self.val_names = val_names\n",
    "\n",
    "    @staticmethod\n",
    "    def make_nx_graph(adjacency_matrix, node_mapping):\n",
    "        G = nx.from_numpy_matrix(adjacency_matrix, create_using=nx.DiGraph)\n",
    "        mapping = {i: label for label, i in node_mapping.items()}\n",
    "        G = nx.relabel_nodes(G, mapping)\n",
    "        return G\n",
    "\n",
    "    def draw(self):\n",
    "        nx.draw(self.graph, with_labels=True, arrows=True)\n",
    "    \n",
    "    def conditioning_vals_to_condpot(self, conditioning_vals):\n",
    "        conditioning_vars = [var_names[v] for v in conditioning_vals.keys()]\n",
    "        conditioning_values = [val_names[v] for v in conditioning_vals.values()]\n",
    "        return setpot(self.jointpot, conditioning_vars, conditioning_values)\n",
    "\n",
    "    def get_conditioned_pot(self, conditioning_vals, out_var):\n",
    "        evidencedpot = self.conditioning_vals_to_condpot(conditioning_vals)\n",
    "        conditionedpot = condpot(evidencedpot, var_names[out_var])\n",
    "        return conditionedpot\n",
    "\n",
    "def conditioning_vals_to_string(conditioning_vals):\n",
    "    return \", \".join(\"{}={}\".format(name, val) for (name, val) in conditioning_vals.items())\n",
    "\n",
    "\n",
    "def print_conditioned_pot(conditioning_vals, out_var, conditionedpot, rounding=4):\n",
    "    print(\"p({}|{}):\".format(out_var, conditioning_vals_to_string(conditioning_vals)))\n",
    "    pyes_string = \"p({}=yes|{}):\".format(out_var, conditioning_vals_to_string(conditioning_vals))\n",
    "    pno_string = \"p({}=no|{}):\".format(out_var, conditioning_vals_to_string(conditioning_vals))\n",
    "    print(pyes_string, conditionedpot.table[yes].reshape(-1)[0].round(rounding))\n",
    "    print(pno_string, conditionedpot.table[no].reshape(-1)[0].round(rounding))"
   ]
  },
  {
   "cell_type": "code",
   "execution_count": 7,
   "id": "f1c4de45-6aef-4bd7-91bc-db552108498d",
   "metadata": {},
   "outputs": [
    {
     "name": "stdout",
     "output_type": "stream",
     "text": [
      "('variables:', array([0., 1., 2., 0., 1., 3., 1.]))\n",
      "('number of variables:', 4)\n",
      "('empty DAG matrix: \\n', array([[0., 0., 0., 0.],\n",
      "       [0., 0., 0., 0.],\n",
      "       [0., 0., 0., 0.],\n",
      "       [0., 0., 0., 0.]]))\n"
     ]
    },
    {
     "data": {
      "image/png": "[encoded data removed]",
      "text/plain": [
       "<Figure size 432x288 with 1 Axes>"
      ]
     },
     "metadata": {},
     "output_type": "display_data"
    }
   ],
   "source": [
    "dag_wrapper = DAG(var_names, pot=pot)\n",
    "\n",
    "dag_wrapper.draw()"
   ]
  },
  {
   "cell_type": "code",
   "execution_count": 8,
   "id": "96871cb4-a0a8-4500-b880-465a14a2d20d",
   "metadata": {},
   "outputs": [
    {
     "name": "stdout",
     "output_type": "stream",
     "text": [
      "('current divided newpot.variables=', (array([], dtype=float64), array([], dtype=float64), array([], dtype=float64)))\n",
      "('current divided table: \\n', array([[0.01009899],\n",
      "       [0.98990101]]))\n",
      "p(burglar|alarm=yes, radio=yes):\n",
      "('p(burglar=yes|alarm=yes, radio=yes):', 0.0101)\n",
      "('p(burglar=no|alarm=yes, radio=yes):', 0.9899)\n"
     ]
    }
   ],
   "source": [
    "example_conditioning_vars = {\"alarm\": \"yes\", \"radio\": \"yes\"}\n",
    "example_condpot = dag_wrapper.get_conditioned_pot(\n",
    "    example_conditioning_vars, \"burglar\")\n",
    "print_conditioned_pot(example_conditioning_vars, \"burglar\", example_condpot)"
   ]
  },
  {
   "cell_type": "code",
   "execution_count": 9,
   "id": "7546c0df-9bca-4ec2-a872-a2e0b4f45238",
   "metadata": {},
   "outputs": [
    {
     "name": "stdout",
     "output_type": "stream",
     "text": [
      "('current divided newpot.variables=', (array([], dtype=float64), array([], dtype=float64), array([], dtype=float64)))\n",
      "('current divided table: \\n', array([[0.01009899],\n",
      "       [0.98990101]]))\n",
      "p(burglar|alarm=yes, earthquake=yes):\n",
      "('p(burglar=yes|alarm=yes, earthquake=yes):', 0.0101)\n",
      "('p(burglar=no|alarm=yes, earthquake=yes):', 0.9899)\n"
     ]
    }
   ],
   "source": [
    "example_conditioning_vars = {\"alarm\": \"yes\", \"earthquake\": \"yes\"}\n",
    "example_condpot = dag_wrapper.get_conditioned_pot(\n",
    "    example_conditioning_vars, \"burglar\")\n",
    "print_conditioned_pot(example_conditioning_vars, \"burglar\", example_condpot)"
   ]
  },
  {
   "cell_type": "code",
   "execution_count": 10,
   "id": "fa5e84ef-d9b7-45a5-8681-149dc49c5162",
   "metadata": {},
   "outputs": [],
   "source": [
    "## WTF? Why does earthquake=no make burglary less probable?"
   ]
  },
  {
   "cell_type": "code",
   "execution_count": 9,
   "id": "7a7a0f66-77a0-4677-81b0-c81afde8f205",
   "metadata": {},
   "outputs": [
    {
     "name": "stdout",
     "output_type": "stream",
     "text": [
      "('current divided newpot.variables=', (array([], dtype=float64), array([], dtype=float64), array([], dtype=float64)))\n",
      "('current divided table: \\n', array([[1.00999899e-04],\n",
      "       [9.99899000e-01]]))\n",
      "p(burglar|alarm=yes, earthquake=no):\n",
      "('p(burglar=yes|alarm=yes, earthquake=no):', 0.0001)\n",
      "('p(burglar=no|alarm=yes, earthquake=no):', 0.9999)\n"
     ]
    }
   ],
   "source": [
    "example_conditioning_vars = {\"alarm\": \"yes\", \"earthquake\": \"no\"}\n",
    "example_condpot = dag_wrapper.get_conditioned_pot(\n",
    "    example_conditioning_vars, \"burglar\")\n",
    "print_conditioned_pot(example_conditioning_vars, \"burglar\", example_condpot)"
   ]
  },
  {
   "cell_type": "code",
   "execution_count": null,
   "id": "f970a3be-4450-4931-ad80-d528886d06f4",
   "metadata": {},
   "outputs": [],
   "source": []
  },
  {
   "cell_type": "code",
   "execution_count": null,
   "id": "2e1fe1f5-5902-44e7-82c1-21bd157eb09c",
   "metadata": {},
   "outputs": [],
   "source": []
  }
 ],
 "metadata": {
  "kernelspec": {
   "display_name": "brml2.7",
   "language": "python",
   "name": "brml2.7"
  },
  "language_info": {
   "codemirror_mode": {
    "name": "ipython",
    "version": 2
   },
   "file_extension": ".py",
   "mimetype": "text/x-python",
   "name": "python",
   "nbconvert_exporter": "python",
   "pygments_lexer": "ipython2",
   "version": "2.7.18"
  }
 },
 "nbformat": 4,
 "nbformat_minor": 5
}
